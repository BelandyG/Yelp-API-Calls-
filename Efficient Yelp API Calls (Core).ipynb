{
 "cells": [
  {
   "cell_type": "code",
   "execution_count": 1,
   "id": "f1985ef2",
   "metadata": {},
   "outputs": [
    {
     "name": "stdout",
     "output_type": "stream",
     "text": [
      "Requirement already satisfied: YelpAPI in c:\\users\\belan\\anaconda33\\envs\\dojo-env\\lib\\site-packages (2.5.0)\n",
      "Requirement already satisfied: requests in c:\\users\\belan\\anaconda33\\envs\\dojo-env\\lib\\site-packages (from YelpAPI) (2.28.1)\n",
      "Requirement already satisfied: charset-normalizer<3,>=2 in c:\\users\\belan\\anaconda33\\envs\\dojo-env\\lib\\site-packages (from requests->YelpAPI) (2.0.4)\n",
      "Requirement already satisfied: urllib3<1.27,>=1.21.1 in c:\\users\\belan\\anaconda33\\envs\\dojo-env\\lib\\site-packages (from requests->YelpAPI) (1.26.13)\n",
      "Requirement already satisfied: idna<4,>=2.5 in c:\\users\\belan\\anaconda33\\envs\\dojo-env\\lib\\site-packages (from requests->YelpAPI) (3.4)\n",
      "Requirement already satisfied: certifi>=2017.4.17 in c:\\users\\belan\\anaconda33\\envs\\dojo-env\\lib\\site-packages (from requests->YelpAPI) (2022.9.24)\n"
     ]
    }
   ],
   "source": [
    "!pip install YelpAPI"
   ]
  },
  {
   "cell_type": "code",
   "execution_count": 2,
   "id": "a9a930f9",
   "metadata": {},
   "outputs": [
    {
     "name": "stdout",
     "output_type": "stream",
     "text": [
      "Requirement already satisfied: tqdm in c:\\users\\belan\\anaconda33\\envs\\dojo-env\\lib\\site-packages (4.64.1)\n",
      "Requirement already satisfied: colorama in c:\\users\\belan\\anaconda33\\envs\\dojo-env\\lib\\site-packages (from tqdm) (0.4.5)\n"
     ]
    }
   ],
   "source": [
    "!pip install tqdm"
   ]
  },
  {
   "cell_type": "code",
   "execution_count": 3,
   "id": "8a2ab0d3",
   "metadata": {},
   "outputs": [],
   "source": [
    "# Standard Imports\n",
    "import pandas as pd\n",
    "import numpy as np\n",
    "import matplotlib.pyplot as plt\n",
    "import seaborn as sns\n",
    "\n",
    "#additional imports\n",
    "import os, json, math, time\n",
    "from yelpapi import YelpAPI\n",
    "from tqdm.notebook import tqdm_notebook"
   ]
  },
  {
   "cell_type": "code",
   "execution_count": 5,
   "id": "9607687a",
   "metadata": {},
   "outputs": [],
   "source": [
    "def create_json_file(JSON_FILE,  delete_if_exists=False):\n",
    "    \n",
    "    ## Check if JSON_FILE exists\n",
    "    file_exists = os.path.isfile(JSON_FILE)\n",
    "    \n",
    "    ## If it DOES exist:\n",
    "    if file_exists == True:\n",
    "        \n",
    "        ## Check if user wants to delete if exists\n",
    "        if delete_if_exists==True:\n",
    "            \n",
    "            print(f\"[!] {JSON_FILE} already exists. Deleting previous file...\")\n",
    "            ## delete file and confirm it no longer exits.\n",
    "            os.remove(JSON_FILE)\n",
    "            ## Recursive call to function after old file deleted\n",
    "            create_json_file(JSON_FILE,delete_if_exists=False)\n",
    "        else:\n",
    "            print(f\"[i] {JSON_FILE} already exists.\")            \n",
    "            \n",
    "            \n",
    "    ## If it does NOT exist:\n",
    "    else:\n",
    "        ## INFORM USER AND SAVE EMPTY LIST\n",
    "        print(f\"[i] {JSON_FILE} not found. Saving empty list to new file.\")\n",
    "        \n",
    "        ## CREATE ANY NEEDED FOLDERS\n",
    "        # Get the Folder Name only\n",
    "        folder = os.path.dirname(JSON_FILE)\n",
    "        \n",
    "        ## If JSON_FILE included a folder:\n",
    "        if len(folder)>0:\n",
    "            # create the folder\n",
    "            os.makedirs(folder,exist_ok=True)\n",
    "        ## Save empty list to start the json file\n",
    "        with open(JSON_FILE,'w') as f:\n",
    "            json.dump([],f) "
   ]
  },
  {
   "cell_type": "markdown",
   "id": "ca38930a",
   "metadata": {},
   "source": [
    "# Load and Create Yelp API "
   ]
  },
  {
   "cell_type": "code",
   "execution_count": 6,
   "id": "078ada67",
   "metadata": {},
   "outputs": [
    {
     "data": {
      "text/plain": [
       "dict_keys(['client-id', 'api-key'])"
      ]
     },
     "execution_count": 6,
     "metadata": {},
     "output_type": "execute_result"
    }
   ],
   "source": [
    "# import json to read yelp api credentials\n",
    "import json\n",
    "\n",
    "# with open: yelp api credentials (save as variable)\n",
    "with open('/Users/Belan/.secret/yelp_api.json') as f:\n",
    "    login = json.load(f)\n",
    "\n",
    "login.keys()"
   ]
  },
  {
   "cell_type": "code",
   "execution_count": 7,
   "id": "13193cb9",
   "metadata": {},
   "outputs": [
    {
     "data": {
      "text/plain": [
       "<yelpapi.yelpapi.YelpAPI at 0x1b1fa85db50>"
      ]
     },
     "execution_count": 7,
     "metadata": {},
     "output_type": "execute_result"
    }
   ],
   "source": [
    "\n",
    "# instantiate yelpapi variable\n",
    "yelp_api = YelpAPI(login['api-key'], timeout_s=5.0)\n",
    "yelp_api"
   ]
  },
  {
   "cell_type": "markdown",
   "id": "5d1f7232",
   "metadata": {},
   "source": [
    "# Define Searchand File Path"
   ]
  },
  {
   "cell_type": "code",
   "execution_count": 8,
   "id": "5db44ee4",
   "metadata": {},
   "outputs": [],
   "source": [
    "# use our yelp_api variable's search_query method to perform our API call\n",
    "location='Atlanta, GA'\n",
    "term='Soul Food'"
   ]
  },
  {
   "cell_type": "code",
   "execution_count": 9,
   "id": "07d05bd3",
   "metadata": {},
   "outputs": [
    {
     "data": {
      "text/plain": [
       "'Data/results_in_progress_Atlanta_Soul Food.json'"
      ]
     },
     "execution_count": 9,
     "metadata": {},
     "output_type": "execute_result"
    }
   ],
   "source": [
    "#specify folder to save data\n",
    "FOLDER = 'Data/'\n",
    "os.makedirs(FOLDER, exist_ok = True)\n",
    "\n",
    "#specify JSON file name in a programatic way\n",
    "JSON_FILE = FOLDER+f\"results_in_progress_{location.split(',')[0]}_{term}.json\"\n",
    "JSON_FILE"
   ]
  },
  {
   "cell_type": "markdown",
   "id": "26f58c37",
   "metadata": {},
   "source": [
    "# Check JSON File"
   ]
  },
  {
   "cell_type": "code",
   "execution_count": 10,
   "id": "c659208e",
   "metadata": {},
   "outputs": [
    {
     "name": "stdout",
     "output_type": "stream",
     "text": [
      "[i] Data/results_in_progress_Atlanta_Soul Food.json not found. Saving empty list to file.\n"
     ]
    }
   ],
   "source": [
    "## Check if JSON_FILE exists\n",
    "file_exists = os.path.isfile(JSON_FILE)\n",
    "## If it does not exist: \n",
    "if file_exists == False:\n",
    "    \n",
    "    ## CREATE ANY NEEDED FOLDERS\n",
    "    # Get the Folder Name only\n",
    "    folder = os.path.dirname(JSON_FILE)\n",
    "    ## If JSON_FILE included a folder:\n",
    "    if len(folder)>0:\n",
    "        # create the folder\n",
    "        os.makedirs(folder,exist_ok=True)\n",
    "        \n",
    "        \n",
    "    ## INFORM USER AND SAVE EMPTY LIST\n",
    "    print(f'[i] {JSON_FILE} not found. Saving empty list to file.')\n",
    "    \n",
    "    \n",
    "    # save an empty list\n",
    "    with open(JSON_FILE,'w') as f:\n",
    "        json.dump([],f)  \n",
    "# If it exists, inform user\n",
    "else:\n",
    "    print(f\"[i] {JSON_FILE} already exists.\")"
   ]
  },
  {
   "cell_type": "markdown",
   "id": "410e61b7",
   "metadata": {},
   "source": [
    "# Results in File"
   ]
  },
  {
   "cell_type": "code",
   "execution_count": 11,
   "id": "c3f821ff",
   "metadata": {},
   "outputs": [
    {
     "name": "stdout",
     "output_type": "stream",
     "text": [
      "[!] Data/results_in_progress_Atlanta_Soul Food.json already exists. Deleting previous file...\n",
      "[i] Data/results_in_progress_Atlanta_Soul Food.json not found. Saving empty list to new file.\n",
      "- 0 previous results found.\n"
     ]
    }
   ],
   "source": [
    "## Create a new empty json file (exist the previous if it exists)\n",
    "create_json_file(JSON_FILE, delete_if_exists=True)\n",
    "## Load previous results and use len of results for offset\n",
    "with open(JSON_FILE,'r') as f:\n",
    "    previous_results = json.load(f)\n",
    "    \n",
    "## set offset based on previous results\n",
    "n_results = len(previous_results)\n",
    "print(f'- {n_results} previous results found.')"
   ]
  },
  {
   "cell_type": "markdown",
   "id": "d6e5e0fe",
   "metadata": {},
   "source": [
    "# # Of Result Pages"
   ]
  },
  {
   "cell_type": "code",
   "execution_count": 12,
   "id": "49e32019",
   "metadata": {},
   "outputs": [
    {
     "data": {
      "text/plain": [
       "22"
      ]
     },
     "execution_count": 12,
     "metadata": {},
     "output_type": "execute_result"
    }
   ],
   "source": [
    "# use our yelp_api variable's search_query method to perform our API call\n",
    "results = yelp_api.search_query(location=location,\n",
    "                                term=term,\n",
    "                               offset=n_results)\n",
    "## How many results total?\n",
    "total_results = results['total']\n",
    "## How many did we get the details for?\n",
    "results_per_page = len(results['businesses'])\n",
    "# Use math.ceil to round up for the total number of pages of results.\n",
    "n_pages = math.ceil((results['total']-n_results)/ results_per_page)\n",
    "n_pages"
   ]
  },
  {
   "cell_type": "markdown",
   "id": "d5293f72",
   "metadata": {},
   "source": [
    "# For Loop"
   ]
  },
  {
   "cell_type": "code",
   "execution_count": 13,
   "id": "d95d1c53",
   "metadata": {},
   "outputs": [
    {
     "data": {
      "application/vnd.jupyter.widget-view+json": {
       "model_id": "784ded3a45094ee2af45523530eb0dd0",
       "version_major": 2,
       "version_minor": 0
      },
      "text/plain": [
       "  0%|          | 0/22 [00:00<?, ?it/s]"
      ]
     },
     "metadata": {},
     "output_type": "display_data"
    }
   ],
   "source": [
    "for i in tqdm_notebook( range(1,n_pages+1)):\n",
    "    \n",
    "    ## Read in results in progress file and check the length\n",
    "    with open(JSON_FILE, 'r') as f:\n",
    "        previous_results = json.load(f)\n",
    "    ## save number of results for to use as offset\n",
    "    n_results = len(previous_results)\n",
    "    \n",
    "    if (n_results + results_per_page) > 1000:\n",
    "        print('Exceeded 1000 api calls. Stopping loop.')\n",
    "        break\n",
    "    \n",
    "    ## use n_results as the OFFSET \n",
    "    results = yelp_api.search_query(location=location,\n",
    "                                    term=term, \n",
    "                                    offset=n_results)\n",
    "    \n",
    "    \n",
    "    \n",
    "    ## append new results and save to file\n",
    "    previous_results.extend(results['businesses'])\n",
    "    \n",
    "    # display(previous_results)\n",
    "    with open(JSON_FILE,'w') as f:\n",
    "        json.dump(previous_results,f)\n",
    "    time.sleep(.2)"
   ]
  },
  {
   "cell_type": "markdown",
   "id": "d3f9ce3c",
   "metadata": {},
   "source": [
    "# JSON file with Pandas"
   ]
  },
  {
   "cell_type": "code",
   "execution_count": 14,
   "id": "811a2ad0",
   "metadata": {},
   "outputs": [
    {
     "name": "stdout",
     "output_type": "stream",
     "text": [
      "<class 'pandas.core.frame.DataFrame'>\n",
      "RangeIndex: 439 entries, 0 to 438\n",
      "Data columns (total 16 columns):\n",
      " #   Column         Non-Null Count  Dtype  \n",
      "---  ------         --------------  -----  \n",
      " 0   id             439 non-null    object \n",
      " 1   alias          439 non-null    object \n",
      " 2   name           439 non-null    object \n",
      " 3   image_url      439 non-null    object \n",
      " 4   is_closed      439 non-null    bool   \n",
      " 5   url            439 non-null    object \n",
      " 6   review_count   439 non-null    int64  \n",
      " 7   categories     439 non-null    object \n",
      " 8   rating         439 non-null    float64\n",
      " 9   coordinates    439 non-null    object \n",
      " 10  transactions   439 non-null    object \n",
      " 11  price          295 non-null    object \n",
      " 12  location       439 non-null    object \n",
      " 13  phone          439 non-null    object \n",
      " 14  display_phone  439 non-null    object \n",
      " 15  distance       439 non-null    float64\n",
      "dtypes: bool(1), float64(2), int64(1), object(12)\n",
      "memory usage: 52.0+ KB\n",
      "None\n"
     ]
    },
    {
     "data": {
      "text/html": [
       "<div>\n",
       "<style scoped>\n",
       "    .dataframe tbody tr th:only-of-type {\n",
       "        vertical-align: middle;\n",
       "    }\n",
       "\n",
       "    .dataframe tbody tr th {\n",
       "        vertical-align: top;\n",
       "    }\n",
       "\n",
       "    .dataframe thead th {\n",
       "        text-align: right;\n",
       "    }\n",
       "</style>\n",
       "<table border=\"1\" class=\"dataframe\">\n",
       "  <thead>\n",
       "    <tr style=\"text-align: right;\">\n",
       "      <th></th>\n",
       "      <th>id</th>\n",
       "      <th>alias</th>\n",
       "      <th>name</th>\n",
       "      <th>image_url</th>\n",
       "      <th>is_closed</th>\n",
       "      <th>url</th>\n",
       "      <th>review_count</th>\n",
       "      <th>categories</th>\n",
       "      <th>rating</th>\n",
       "      <th>coordinates</th>\n",
       "      <th>transactions</th>\n",
       "      <th>price</th>\n",
       "      <th>location</th>\n",
       "      <th>phone</th>\n",
       "      <th>display_phone</th>\n",
       "      <th>distance</th>\n",
       "    </tr>\n",
       "  </thead>\n",
       "  <tbody>\n",
       "    <tr>\n",
       "      <th>0</th>\n",
       "      <td>AvXqLbcGCxdIEF_qZTY0Kw</td>\n",
       "      <td>the-busy-bee-cafe-atlanta</td>\n",
       "      <td>The Busy Bee Cafe</td>\n",
       "      <td>https://s3-media4.fl.yelpcdn.com/bphoto/KhI0mc...</td>\n",
       "      <td>False</td>\n",
       "      <td>https://www.yelp.com/biz/the-busy-bee-cafe-atl...</td>\n",
       "      <td>1116</td>\n",
       "      <td>[{'alias': 'soulfood', 'title': 'Soul Food'}, ...</td>\n",
       "      <td>4.0</td>\n",
       "      <td>{'latitude': 33.7544325583427, 'longitude': -8...</td>\n",
       "      <td>[delivery, pickup]</td>\n",
       "      <td>$$</td>\n",
       "      <td>{'address1': '810 Martin Luther King Jr Dr SW'...</td>\n",
       "      <td>+14045259212</td>\n",
       "      <td>(404) 525-9212</td>\n",
       "      <td>1571.578941</td>\n",
       "    </tr>\n",
       "    <tr>\n",
       "      <th>1</th>\n",
       "      <td>lGDHzx8L-ZjTUh6ch2ar9g</td>\n",
       "      <td>southern-kitchen-and-grill-atlanta</td>\n",
       "      <td>Southern Kitchen &amp; Grill</td>\n",
       "      <td>https://s3-media2.fl.yelpcdn.com/bphoto/yg3jSZ...</td>\n",
       "      <td>False</td>\n",
       "      <td>https://www.yelp.com/biz/southern-kitchen-and-...</td>\n",
       "      <td>298</td>\n",
       "      <td>[{'alias': 'southern', 'title': 'Southern'}, {...</td>\n",
       "      <td>4.5</td>\n",
       "      <td>{'latitude': 33.88625820727653, 'longitude': -...</td>\n",
       "      <td>[delivery, pickup]</td>\n",
       "      <td>$$</td>\n",
       "      <td>{'address1': '3781 Presidential Pkwy', 'addres...</td>\n",
       "      <td>+16786941098</td>\n",
       "      <td>(678) 694-1098</td>\n",
       "      <td>19454.617103</td>\n",
       "    </tr>\n",
       "    <tr>\n",
       "      <th>2</th>\n",
       "      <td>B5KTQH01_SoaRxhniVGA1g</td>\n",
       "      <td>delilahs-everyday-soul-atlanta</td>\n",
       "      <td>Delilah's Everyday Soul</td>\n",
       "      <td>https://s3-media1.fl.yelpcdn.com/bphoto/x22gKI...</td>\n",
       "      <td>False</td>\n",
       "      <td>https://www.yelp.com/biz/delilahs-everyday-sou...</td>\n",
       "      <td>53</td>\n",
       "      <td>[{'alias': 'soulfood', 'title': 'Soul Food'}, ...</td>\n",
       "      <td>4.5</td>\n",
       "      <td>{'latitude': 33.80284, 'longitude': -84.4285}</td>\n",
       "      <td>[pickup]</td>\n",
       "      <td>$$</td>\n",
       "      <td>{'address1': '1235 Chattahoochee Ave NW', 'add...</td>\n",
       "      <td>+14708274567</td>\n",
       "      <td>(470) 827-4567</td>\n",
       "      <td>3932.239448</td>\n",
       "    </tr>\n",
       "    <tr>\n",
       "      <th>3</th>\n",
       "      <td>qDL_cyl2JbbHDoiFPrn4yQ</td>\n",
       "      <td>southern-fire-kitchen-no-title</td>\n",
       "      <td>Southern Fire Kitchen</td>\n",
       "      <td>https://s3-media3.fl.yelpcdn.com/bphoto/Puud-d...</td>\n",
       "      <td>False</td>\n",
       "      <td>https://www.yelp.com/biz/southern-fire-kitchen...</td>\n",
       "      <td>130</td>\n",
       "      <td>[{'alias': 'southern', 'title': 'Southern'}, {...</td>\n",
       "      <td>4.0</td>\n",
       "      <td>{'latitude': 33.84314, 'longitude': -84.32838}</td>\n",
       "      <td>[]</td>\n",
       "      <td>NaN</td>\n",
       "      <td>{'address1': '3375 Buford Hwy NE', 'address2':...</td>\n",
       "      <td>+14049637594</td>\n",
       "      <td>(404) 963-7594</td>\n",
       "      <td>12023.739216</td>\n",
       "    </tr>\n",
       "    <tr>\n",
       "      <th>4</th>\n",
       "      <td>8-Z8KokLH--CXZu3HhIiTw</td>\n",
       "      <td>soulbox-atlanta-2</td>\n",
       "      <td>SoulBox</td>\n",
       "      <td>https://s3-media1.fl.yelpcdn.com/bphoto/hK9imD...</td>\n",
       "      <td>False</td>\n",
       "      <td>https://www.yelp.com/biz/soulbox-atlanta-2?adj...</td>\n",
       "      <td>64</td>\n",
       "      <td>[{'alias': 'soulfood', 'title': 'Soul Food'}]</td>\n",
       "      <td>4.0</td>\n",
       "      <td>{'latitude': 33.74929, 'longitude': -84.42117}</td>\n",
       "      <td>[delivery, pickup]</td>\n",
       "      <td>NaN</td>\n",
       "      <td>{'address1': '1017 Fair St', 'address2': None,...</td>\n",
       "      <td>+14044945805</td>\n",
       "      <td>(404) 494-5805</td>\n",
       "      <td>2038.595219</td>\n",
       "    </tr>\n",
       "  </tbody>\n",
       "</table>\n",
       "</div>"
      ],
      "text/plain": [
       "                       id                               alias  \\\n",
       "0  AvXqLbcGCxdIEF_qZTY0Kw           the-busy-bee-cafe-atlanta   \n",
       "1  lGDHzx8L-ZjTUh6ch2ar9g  southern-kitchen-and-grill-atlanta   \n",
       "2  B5KTQH01_SoaRxhniVGA1g      delilahs-everyday-soul-atlanta   \n",
       "3  qDL_cyl2JbbHDoiFPrn4yQ      southern-fire-kitchen-no-title   \n",
       "4  8-Z8KokLH--CXZu3HhIiTw                   soulbox-atlanta-2   \n",
       "\n",
       "                       name  \\\n",
       "0         The Busy Bee Cafe   \n",
       "1  Southern Kitchen & Grill   \n",
       "2   Delilah's Everyday Soul   \n",
       "3     Southern Fire Kitchen   \n",
       "4                   SoulBox   \n",
       "\n",
       "                                           image_url  is_closed  \\\n",
       "0  https://s3-media4.fl.yelpcdn.com/bphoto/KhI0mc...      False   \n",
       "1  https://s3-media2.fl.yelpcdn.com/bphoto/yg3jSZ...      False   \n",
       "2  https://s3-media1.fl.yelpcdn.com/bphoto/x22gKI...      False   \n",
       "3  https://s3-media3.fl.yelpcdn.com/bphoto/Puud-d...      False   \n",
       "4  https://s3-media1.fl.yelpcdn.com/bphoto/hK9imD...      False   \n",
       "\n",
       "                                                 url  review_count  \\\n",
       "0  https://www.yelp.com/biz/the-busy-bee-cafe-atl...          1116   \n",
       "1  https://www.yelp.com/biz/southern-kitchen-and-...           298   \n",
       "2  https://www.yelp.com/biz/delilahs-everyday-sou...            53   \n",
       "3  https://www.yelp.com/biz/southern-fire-kitchen...           130   \n",
       "4  https://www.yelp.com/biz/soulbox-atlanta-2?adj...            64   \n",
       "\n",
       "                                          categories  rating  \\\n",
       "0  [{'alias': 'soulfood', 'title': 'Soul Food'}, ...     4.0   \n",
       "1  [{'alias': 'southern', 'title': 'Southern'}, {...     4.5   \n",
       "2  [{'alias': 'soulfood', 'title': 'Soul Food'}, ...     4.5   \n",
       "3  [{'alias': 'southern', 'title': 'Southern'}, {...     4.0   \n",
       "4      [{'alias': 'soulfood', 'title': 'Soul Food'}]     4.0   \n",
       "\n",
       "                                         coordinates        transactions  \\\n",
       "0  {'latitude': 33.7544325583427, 'longitude': -8...  [delivery, pickup]   \n",
       "1  {'latitude': 33.88625820727653, 'longitude': -...  [delivery, pickup]   \n",
       "2      {'latitude': 33.80284, 'longitude': -84.4285}            [pickup]   \n",
       "3     {'latitude': 33.84314, 'longitude': -84.32838}                  []   \n",
       "4     {'latitude': 33.74929, 'longitude': -84.42117}  [delivery, pickup]   \n",
       "\n",
       "  price                                           location         phone  \\\n",
       "0    $$  {'address1': '810 Martin Luther King Jr Dr SW'...  +14045259212   \n",
       "1    $$  {'address1': '3781 Presidential Pkwy', 'addres...  +16786941098   \n",
       "2    $$  {'address1': '1235 Chattahoochee Ave NW', 'add...  +14708274567   \n",
       "3   NaN  {'address1': '3375 Buford Hwy NE', 'address2':...  +14049637594   \n",
       "4   NaN  {'address1': '1017 Fair St', 'address2': None,...  +14044945805   \n",
       "\n",
       "    display_phone      distance  \n",
       "0  (404) 525-9212   1571.578941  \n",
       "1  (678) 694-1098  19454.617103  \n",
       "2  (470) 827-4567   3932.239448  \n",
       "3  (404) 963-7594  12023.739216  \n",
       "4  (404) 494-5805   2038.595219  "
      ]
     },
     "execution_count": 14,
     "metadata": {},
     "output_type": "execute_result"
    }
   ],
   "source": [
    "df = pd.read_json(JSON_FILE)\n",
    "print(df.info())\n",
    "df.head()"
   ]
  },
  {
   "cell_type": "code",
   "execution_count": 15,
   "id": "3e379741",
   "metadata": {},
   "outputs": [
    {
     "data": {
      "text/plain": [
       "0"
      ]
     },
     "execution_count": 15,
     "metadata": {},
     "output_type": "execute_result"
    }
   ],
   "source": [
    "# check for duplicate ID's \n",
    "df.duplicated(subset='id').sum()"
   ]
  },
  {
   "cell_type": "code",
   "execution_count": 16,
   "id": "493cc7f6",
   "metadata": {},
   "outputs": [
    {
     "data": {
      "text/plain": [
       "'Data/results_in_progress_Atlanta_Soul Food.csv.gz'"
      ]
     },
     "execution_count": 16,
     "metadata": {},
     "output_type": "execute_result"
    }
   ],
   "source": [
    "## convert the filename to a .csv.gz\n",
    "csv_file = JSON_FILE.replace('.json','.csv.gz')\n",
    "csv_file"
   ]
  },
  {
   "cell_type": "code",
   "execution_count": 17,
   "id": "6fc8af27",
   "metadata": {},
   "outputs": [],
   "source": [
    "## Save it as a compressed csv (to save space)\n",
    "df.to_csv(csv_file, compression = 'gzip', index = False)"
   ]
  },
  {
   "cell_type": "markdown",
   "id": "ee6ea009",
   "metadata": {},
   "source": [
    "# Compare File Size"
   ]
  },
  {
   "cell_type": "code",
   "execution_count": 18,
   "id": "820764e6",
   "metadata": {},
   "outputs": [
    {
     "name": "stdout",
     "output_type": "stream",
     "text": [
      "JSON FILE: 437,370 Bytes\n",
      "CSV.GZ FILE: 68,031 Bytes\n",
      "the csv.gz is 6.428980905763549 times smaller!\n"
     ]
    }
   ],
   "source": [
    "size_json = os.path.getsize(JSON_FILE)\n",
    "size_csv_gz = os.path.getsize(JSON_FILE.replace('.json','.csv.gz'))\n",
    "\n",
    "print(f'JSON FILE: {size_json:,} Bytes')\n",
    "print(f'CSV.GZ FILE: {size_csv_gz:,} Bytes')\n",
    "\n",
    "print(f'the csv.gz is {size_json/size_csv_gz} times smaller!')"
   ]
  }
 ],
 "metadata": {
  "kernelspec": {
   "display_name": "Python (dojo-env)",
   "language": "python",
   "name": "dojo-env"
  },
  "language_info": {
   "codemirror_mode": {
    "name": "ipython",
    "version": 3
   },
   "file_extension": ".py",
   "mimetype": "text/x-python",
   "name": "python",
   "nbconvert_exporter": "python",
   "pygments_lexer": "ipython3",
   "version": "3.9.15"
  },
  "toc": {
   "base_numbering": 1,
   "nav_menu": {},
   "number_sections": true,
   "sideBar": true,
   "skip_h1_title": false,
   "title_cell": "Table of Contents",
   "title_sidebar": "Contents",
   "toc_cell": false,
   "toc_position": {},
   "toc_section_display": true,
   "toc_window_display": false
  }
 },
 "nbformat": 4,
 "nbformat_minor": 5
}
